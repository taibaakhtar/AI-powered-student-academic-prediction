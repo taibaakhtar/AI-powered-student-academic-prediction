{
  "cells": [
    {
      "cell_type": "markdown",
      "metadata": {
        "id": "K3vk0iWo_9e2"
      },
      "source": [
        "# Import Dependencies"
      ]
    },
    {
      "cell_type": "code",
      "execution_count": 2,
      "metadata": {
        "id": "CG8WPE689REK"
      },
      "outputs": [],
      "source": [
        "import numpy as np\n",
        "import pandas as pd\n",
        "import seaborn as sns\n",
        "import matplotlib.pyplot as plt\n",
        "%matplotlib inline\n",
        "import warnings\n",
        "warnings.filterwarnings('ignore')"
      ]
    },
    {
      "cell_type": "code",
      "execution_count": 6,
      "metadata": {
        "id": "dpSobowNADWa"
      },
      "outputs": [],
      "source": [
        "df = pd.read_csv('D:/student-pred/notebook/StudentPerformanceFactors.csv')"
      ]
    },
    {
      "cell_type": "code",
      "execution_count": 7,
      "metadata": {
        "colab": {
          "base_uri": "https://localhost:8080/",
          "height": 226
        },
        "id": "ytimp63uAK8h",
        "outputId": "5aef25d1-236f-4505-a32a-4130c72e7803"
      },
      "outputs": [
        {
          "data": {
            "text/html": [
              "<div>\n",
              "<style scoped>\n",
              "    .dataframe tbody tr th:only-of-type {\n",
              "        vertical-align: middle;\n",
              "    }\n",
              "\n",
              "    .dataframe tbody tr th {\n",
              "        vertical-align: top;\n",
              "    }\n",
              "\n",
              "    .dataframe thead th {\n",
              "        text-align: right;\n",
              "    }\n",
              "</style>\n",
              "<table border=\"1\" class=\"dataframe\">\n",
              "  <thead>\n",
              "    <tr style=\"text-align: right;\">\n",
              "      <th></th>\n",
              "      <th>Academic_history</th>\n",
              "      <th>Attendance</th>\n",
              "      <th>Parental_support</th>\n",
              "      <th>Access_to_resources</th>\n",
              "      <th>Extracurricular_Activities</th>\n",
              "      <th>Mental_health</th>\n",
              "      <th>Previous_Scores</th>\n",
              "      <th>Motivation_Level</th>\n",
              "      <th>Internet_Access</th>\n",
              "      <th>Academic_support</th>\n",
              "      <th>Family_Income</th>\n",
              "      <th>Understand_ability</th>\n",
              "      <th>School_Type</th>\n",
              "      <th>Peer_Influence</th>\n",
              "      <th>Physical_Activity</th>\n",
              "      <th>Mental_illness</th>\n",
              "      <th>Parental_Education_Level</th>\n",
              "      <th>Distance_from_Home</th>\n",
              "      <th>Gender</th>\n",
              "      <th>Exam_Score</th>\n",
              "    </tr>\n",
              "  </thead>\n",
              "  <tbody>\n",
              "    <tr>\n",
              "      <th>0</th>\n",
              "      <td>23</td>\n",
              "      <td>84</td>\n",
              "      <td>Low</td>\n",
              "      <td>High</td>\n",
              "      <td>No</td>\n",
              "      <td>7</td>\n",
              "      <td>73</td>\n",
              "      <td>Low</td>\n",
              "      <td>Yes</td>\n",
              "      <td>0</td>\n",
              "      <td>Low</td>\n",
              "      <td>Medium</td>\n",
              "      <td>Public</td>\n",
              "      <td>Positive</td>\n",
              "      <td>3</td>\n",
              "      <td>No</td>\n",
              "      <td>High School</td>\n",
              "      <td>Near</td>\n",
              "      <td>Male</td>\n",
              "      <td>67</td>\n",
              "    </tr>\n",
              "    <tr>\n",
              "      <th>1</th>\n",
              "      <td>19</td>\n",
              "      <td>64</td>\n",
              "      <td>Low</td>\n",
              "      <td>Medium</td>\n",
              "      <td>No</td>\n",
              "      <td>8</td>\n",
              "      <td>59</td>\n",
              "      <td>Low</td>\n",
              "      <td>Yes</td>\n",
              "      <td>2</td>\n",
              "      <td>Medium</td>\n",
              "      <td>Medium</td>\n",
              "      <td>Public</td>\n",
              "      <td>Negative</td>\n",
              "      <td>4</td>\n",
              "      <td>No</td>\n",
              "      <td>College</td>\n",
              "      <td>Moderate</td>\n",
              "      <td>Female</td>\n",
              "      <td>61</td>\n",
              "    </tr>\n",
              "    <tr>\n",
              "      <th>2</th>\n",
              "      <td>24</td>\n",
              "      <td>98</td>\n",
              "      <td>Medium</td>\n",
              "      <td>Medium</td>\n",
              "      <td>Yes</td>\n",
              "      <td>7</td>\n",
              "      <td>91</td>\n",
              "      <td>Medium</td>\n",
              "      <td>Yes</td>\n",
              "      <td>2</td>\n",
              "      <td>Medium</td>\n",
              "      <td>Medium</td>\n",
              "      <td>Public</td>\n",
              "      <td>Neutral</td>\n",
              "      <td>4</td>\n",
              "      <td>No</td>\n",
              "      <td>Postgraduate</td>\n",
              "      <td>Near</td>\n",
              "      <td>Male</td>\n",
              "      <td>74</td>\n",
              "    </tr>\n",
              "    <tr>\n",
              "      <th>3</th>\n",
              "      <td>29</td>\n",
              "      <td>89</td>\n",
              "      <td>Low</td>\n",
              "      <td>Medium</td>\n",
              "      <td>Yes</td>\n",
              "      <td>8</td>\n",
              "      <td>98</td>\n",
              "      <td>Medium</td>\n",
              "      <td>Yes</td>\n",
              "      <td>1</td>\n",
              "      <td>Medium</td>\n",
              "      <td>Medium</td>\n",
              "      <td>Public</td>\n",
              "      <td>Negative</td>\n",
              "      <td>4</td>\n",
              "      <td>No</td>\n",
              "      <td>High School</td>\n",
              "      <td>Moderate</td>\n",
              "      <td>Male</td>\n",
              "      <td>71</td>\n",
              "    </tr>\n",
              "    <tr>\n",
              "      <th>4</th>\n",
              "      <td>19</td>\n",
              "      <td>92</td>\n",
              "      <td>Medium</td>\n",
              "      <td>Medium</td>\n",
              "      <td>Yes</td>\n",
              "      <td>6</td>\n",
              "      <td>65</td>\n",
              "      <td>Medium</td>\n",
              "      <td>Yes</td>\n",
              "      <td>3</td>\n",
              "      <td>Medium</td>\n",
              "      <td>High</td>\n",
              "      <td>Public</td>\n",
              "      <td>Neutral</td>\n",
              "      <td>4</td>\n",
              "      <td>No</td>\n",
              "      <td>College</td>\n",
              "      <td>Near</td>\n",
              "      <td>Female</td>\n",
              "      <td>70</td>\n",
              "    </tr>\n",
              "  </tbody>\n",
              "</table>\n",
              "</div>"
            ],
            "text/plain": [
              "   Academic_history  Attendance Parental_support Access_to_resources  \\\n",
              "0                23          84              Low                High   \n",
              "1                19          64              Low              Medium   \n",
              "2                24          98           Medium              Medium   \n",
              "3                29          89              Low              Medium   \n",
              "4                19          92           Medium              Medium   \n",
              "\n",
              "  Extracurricular_Activities  Mental_health  Previous_Scores Motivation_Level  \\\n",
              "0                         No              7               73              Low   \n",
              "1                         No              8               59              Low   \n",
              "2                        Yes              7               91           Medium   \n",
              "3                        Yes              8               98           Medium   \n",
              "4                        Yes              6               65           Medium   \n",
              "\n",
              "  Internet_Access  Academic_support Family_Income Understand_ability  \\\n",
              "0             Yes                 0           Low             Medium   \n",
              "1             Yes                 2        Medium             Medium   \n",
              "2             Yes                 2        Medium             Medium   \n",
              "3             Yes                 1        Medium             Medium   \n",
              "4             Yes                 3        Medium               High   \n",
              "\n",
              "  School_Type Peer_Influence  Physical_Activity Mental_illness  \\\n",
              "0      Public       Positive                  3             No   \n",
              "1      Public       Negative                  4             No   \n",
              "2      Public        Neutral                  4             No   \n",
              "3      Public       Negative                  4             No   \n",
              "4      Public        Neutral                  4             No   \n",
              "\n",
              "  Parental_Education_Level Distance_from_Home  Gender  Exam_Score  \n",
              "0              High School               Near    Male          67  \n",
              "1                  College           Moderate  Female          61  \n",
              "2             Postgraduate               Near    Male          74  \n",
              "3              High School           Moderate    Male          71  \n",
              "4                  College               Near  Female          70  "
            ]
          },
          "execution_count": 7,
          "metadata": {},
          "output_type": "execute_result"
        }
      ],
      "source": [
        "df.head()"
      ]
    },
    {
      "cell_type": "code",
      "execution_count": 8,
      "metadata": {
        "colab": {
          "base_uri": "https://localhost:8080/"
        },
        "id": "nnSgjf5MANfk",
        "outputId": "50da928f-8e89-47b7-8c51-1b75f0792cc5"
      },
      "outputs": [
        {
          "data": {
            "text/plain": [
              "(6607, 20)"
            ]
          },
          "execution_count": 8,
          "metadata": {},
          "output_type": "execute_result"
        }
      ],
      "source": [
        "df.shape"
      ]
    },
    {
      "cell_type": "markdown",
      "metadata": {
        "id": "QDHvnVU5AUBR"
      },
      "source": [
        "EDA steps:"
      ]
    },
    {
      "cell_type": "code",
      "execution_count": 9,
      "metadata": {
        "colab": {
          "base_uri": "https://localhost:8080/",
          "height": 711
        },
        "id": "KyERr31PARTM",
        "outputId": "d34f20ac-45c9-43e5-88c7-efb86745c7f7"
      },
      "outputs": [
        {
          "data": {
            "text/plain": [
              "Academic_history               0\n",
              "Attendance                     0\n",
              "Parental_support               0\n",
              "Access_to_resources            0\n",
              "Extracurricular_Activities     0\n",
              "Mental_health                  0\n",
              "Previous_Scores                0\n",
              "Motivation_Level               0\n",
              "Internet_Access                0\n",
              "Academic_support               0\n",
              "Family_Income                  0\n",
              "Understand_ability            78\n",
              "School_Type                    0\n",
              "Peer_Influence                 0\n",
              "Physical_Activity              0\n",
              "Mental_illness                 0\n",
              "Parental_Education_Level      90\n",
              "Distance_from_Home            67\n",
              "Gender                         0\n",
              "Exam_Score                     0\n",
              "dtype: int64"
            ]
          },
          "execution_count": 9,
          "metadata": {},
          "output_type": "execute_result"
        }
      ],
      "source": [
        "# Checking missing values\n",
        "df.isna().sum()"
      ]
    },
    {
      "cell_type": "code",
      "execution_count": 10,
      "metadata": {
        "id": "4LvusT1MZ5IK"
      },
      "outputs": [],
      "source": [
        "df = df.dropna()"
      ]
    },
    {
      "cell_type": "code",
      "execution_count": 11,
      "metadata": {
        "colab": {
          "base_uri": "https://localhost:8080/"
        },
        "id": "AomKRUnYAZhr",
        "outputId": "c91fe87d-7b47-426e-b4eb-5760d36b18fe"
      },
      "outputs": [
        {
          "data": {
            "text/plain": [
              "np.int64(0)"
            ]
          },
          "execution_count": 11,
          "metadata": {},
          "output_type": "execute_result"
        }
      ],
      "source": [
        "# Checking Duplicate values\n",
        "df.duplicated().sum()"
      ]
    },
    {
      "cell_type": "code",
      "execution_count": 12,
      "metadata": {
        "colab": {
          "base_uri": "https://localhost:8080/"
        },
        "id": "RDu_fqikAmdL",
        "outputId": "702bb435-3608-417a-f71b-65e72116b7a1"
      },
      "outputs": [
        {
          "name": "stdout",
          "output_type": "stream",
          "text": [
            "<class 'pandas.core.frame.DataFrame'>\n",
            "Index: 6378 entries, 0 to 6606\n",
            "Data columns (total 20 columns):\n",
            " #   Column                      Non-Null Count  Dtype \n",
            "---  ------                      --------------  ----- \n",
            " 0   Academic_history            6378 non-null   int64 \n",
            " 1   Attendance                  6378 non-null   int64 \n",
            " 2   Parental_support            6378 non-null   object\n",
            " 3   Access_to_resources         6378 non-null   object\n",
            " 4   Extracurricular_Activities  6378 non-null   object\n",
            " 5   Mental_health               6378 non-null   int64 \n",
            " 6   Previous_Scores             6378 non-null   int64 \n",
            " 7   Motivation_Level            6378 non-null   object\n",
            " 8   Internet_Access             6378 non-null   object\n",
            " 9   Academic_support            6378 non-null   int64 \n",
            " 10  Family_Income               6378 non-null   object\n",
            " 11  Understand_ability          6378 non-null   object\n",
            " 12  School_Type                 6378 non-null   object\n",
            " 13  Peer_Influence              6378 non-null   object\n",
            " 14  Physical_Activity           6378 non-null   int64 \n",
            " 15  Mental_illness              6378 non-null   object\n",
            " 16  Parental_Education_Level    6378 non-null   object\n",
            " 17  Distance_from_Home          6378 non-null   object\n",
            " 18  Gender                      6378 non-null   object\n",
            " 19  Exam_Score                  6378 non-null   int64 \n",
            "dtypes: int64(7), object(13)\n",
            "memory usage: 1.0+ MB\n"
          ]
        }
      ],
      "source": [
        "# Check Null and Dtypes\n",
        "df.info()"
      ]
    },
    {
      "cell_type": "code",
      "execution_count": 13,
      "metadata": {
        "colab": {
          "base_uri": "https://localhost:8080/",
          "height": 711
        },
        "id": "JIeQI8ftArRT",
        "outputId": "234f5601-9ae3-49ba-fc91-2b972a240c9e"
      },
      "outputs": [
        {
          "data": {
            "text/plain": [
              "Academic_history              41\n",
              "Attendance                    41\n",
              "Parental_support               3\n",
              "Access_to_resources            3\n",
              "Extracurricular_Activities     2\n",
              "Mental_health                  7\n",
              "Previous_Scores               51\n",
              "Motivation_Level               3\n",
              "Internet_Access                2\n",
              "Academic_support               9\n",
              "Family_Income                  3\n",
              "Understand_ability             3\n",
              "School_Type                    2\n",
              "Peer_Influence                 3\n",
              "Physical_Activity              7\n",
              "Mental_illness                 2\n",
              "Parental_Education_Level       3\n",
              "Distance_from_Home             3\n",
              "Gender                         2\n",
              "Exam_Score                    45\n",
              "dtype: int64"
            ]
          },
          "execution_count": 13,
          "metadata": {},
          "output_type": "execute_result"
        }
      ],
      "source": [
        "# Checking unique values\n",
        "df.nunique()"
      ]
    },
    {
      "cell_type": "code",
      "execution_count": 14,
      "metadata": {
        "colab": {
          "base_uri": "https://localhost:8080/",
          "height": 300
        },
        "id": "RtlnAK9VAv9K",
        "outputId": "632b7d92-5016-4174-efd5-79ebdb6fac92"
      },
      "outputs": [
        {
          "data": {
            "text/html": [
              "<div>\n",
              "<style scoped>\n",
              "    .dataframe tbody tr th:only-of-type {\n",
              "        vertical-align: middle;\n",
              "    }\n",
              "\n",
              "    .dataframe tbody tr th {\n",
              "        vertical-align: top;\n",
              "    }\n",
              "\n",
              "    .dataframe thead th {\n",
              "        text-align: right;\n",
              "    }\n",
              "</style>\n",
              "<table border=\"1\" class=\"dataframe\">\n",
              "  <thead>\n",
              "    <tr style=\"text-align: right;\">\n",
              "      <th></th>\n",
              "      <th>Academic_history</th>\n",
              "      <th>Attendance</th>\n",
              "      <th>Mental_health</th>\n",
              "      <th>Previous_Scores</th>\n",
              "      <th>Academic_support</th>\n",
              "      <th>Physical_Activity</th>\n",
              "      <th>Exam_Score</th>\n",
              "    </tr>\n",
              "  </thead>\n",
              "  <tbody>\n",
              "    <tr>\n",
              "      <th>count</th>\n",
              "      <td>6378.000000</td>\n",
              "      <td>6378.000000</td>\n",
              "      <td>6378.000000</td>\n",
              "      <td>6378.000000</td>\n",
              "      <td>6378.000000</td>\n",
              "      <td>6378.000000</td>\n",
              "      <td>6378.000000</td>\n",
              "    </tr>\n",
              "    <tr>\n",
              "      <th>mean</th>\n",
              "      <td>19.977109</td>\n",
              "      <td>80.020853</td>\n",
              "      <td>7.034964</td>\n",
              "      <td>75.066165</td>\n",
              "      <td>1.495296</td>\n",
              "      <td>2.972719</td>\n",
              "      <td>67.252117</td>\n",
              "    </tr>\n",
              "    <tr>\n",
              "      <th>std</th>\n",
              "      <td>5.985460</td>\n",
              "      <td>11.550723</td>\n",
              "      <td>1.468033</td>\n",
              "      <td>14.400389</td>\n",
              "      <td>1.233984</td>\n",
              "      <td>1.028926</td>\n",
              "      <td>3.914217</td>\n",
              "    </tr>\n",
              "    <tr>\n",
              "      <th>min</th>\n",
              "      <td>1.000000</td>\n",
              "      <td>60.000000</td>\n",
              "      <td>4.000000</td>\n",
              "      <td>50.000000</td>\n",
              "      <td>0.000000</td>\n",
              "      <td>0.000000</td>\n",
              "      <td>55.000000</td>\n",
              "    </tr>\n",
              "    <tr>\n",
              "      <th>25%</th>\n",
              "      <td>16.000000</td>\n",
              "      <td>70.000000</td>\n",
              "      <td>6.000000</td>\n",
              "      <td>63.000000</td>\n",
              "      <td>1.000000</td>\n",
              "      <td>2.000000</td>\n",
              "      <td>65.000000</td>\n",
              "    </tr>\n",
              "    <tr>\n",
              "      <th>50%</th>\n",
              "      <td>20.000000</td>\n",
              "      <td>80.000000</td>\n",
              "      <td>7.000000</td>\n",
              "      <td>75.000000</td>\n",
              "      <td>1.000000</td>\n",
              "      <td>3.000000</td>\n",
              "      <td>67.000000</td>\n",
              "    </tr>\n",
              "    <tr>\n",
              "      <th>75%</th>\n",
              "      <td>24.000000</td>\n",
              "      <td>90.000000</td>\n",
              "      <td>8.000000</td>\n",
              "      <td>88.000000</td>\n",
              "      <td>2.000000</td>\n",
              "      <td>4.000000</td>\n",
              "      <td>69.000000</td>\n",
              "    </tr>\n",
              "    <tr>\n",
              "      <th>max</th>\n",
              "      <td>44.000000</td>\n",
              "      <td>100.000000</td>\n",
              "      <td>10.000000</td>\n",
              "      <td>100.000000</td>\n",
              "      <td>8.000000</td>\n",
              "      <td>6.000000</td>\n",
              "      <td>101.000000</td>\n",
              "    </tr>\n",
              "  </tbody>\n",
              "</table>\n",
              "</div>"
            ],
            "text/plain": [
              "       Academic_history   Attendance  Mental_health  Previous_Scores  \\\n",
              "count       6378.000000  6378.000000    6378.000000      6378.000000   \n",
              "mean          19.977109    80.020853       7.034964        75.066165   \n",
              "std            5.985460    11.550723       1.468033        14.400389   \n",
              "min            1.000000    60.000000       4.000000        50.000000   \n",
              "25%           16.000000    70.000000       6.000000        63.000000   \n",
              "50%           20.000000    80.000000       7.000000        75.000000   \n",
              "75%           24.000000    90.000000       8.000000        88.000000   \n",
              "max           44.000000   100.000000      10.000000       100.000000   \n",
              "\n",
              "       Academic_support  Physical_Activity   Exam_Score  \n",
              "count       6378.000000        6378.000000  6378.000000  \n",
              "mean           1.495296           2.972719    67.252117  \n",
              "std            1.233984           1.028926     3.914217  \n",
              "min            0.000000           0.000000    55.000000  \n",
              "25%            1.000000           2.000000    65.000000  \n",
              "50%            1.000000           3.000000    67.000000  \n",
              "75%            2.000000           4.000000    69.000000  \n",
              "max            8.000000           6.000000   101.000000  "
            ]
          },
          "execution_count": 14,
          "metadata": {},
          "output_type": "execute_result"
        }
      ],
      "source": [
        "# Statistics check\n",
        "df.describe()"
      ]
    },
    {
      "cell_type": "markdown",
      "metadata": {
        "id": "OyEQ3HlmBh8g"
      },
      "source": [
        "- Data Size: All variables have 6,607 observations.\n",
        "\n",
        "- Academic History: Scores range from 1 to 44 with a mean of ~20, indicating varied academic backgrounds.\n",
        "\n",
        "- Attendance: Averages around 80 (range: 60–100), showing generally high attendance.\n",
        "\n",
        "- Mental Health: Mean score is about 7 on a scale from 4 to 10, suggesting moderate mental health ratings.\n",
        "\n",
        "- Previous Scores: Average around 75 (range: 50–100), indicating generally good past performance.\n",
        "\n",
        "- Academic Support: Low average (mean ~1.49, median 1) implies most students receive minimal support.\n",
        "\n",
        "- Physical Activity: Mean is ~3 (range: 0–6), reflecting varied levels of activity.\n",
        "\n",
        "- Exam Score: Mean is ~67 with low variability (std ~3.89), suggesting exam scores are quite consistent."
      ]
    },
    {
      "cell_type": "code",
      "execution_count": 15,
      "metadata": {
        "colab": {
          "base_uri": "https://localhost:8080/",
          "height": 132
        },
        "id": "1o39AK1aCYH-",
        "outputId": "8bd0496b-1749-4030-f7e0-2ba72fa1a5d8"
      },
      "outputs": [
        {
          "data": {
            "text/html": [
              "<div>\n",
              "<style scoped>\n",
              "    .dataframe tbody tr th:only-of-type {\n",
              "        vertical-align: middle;\n",
              "    }\n",
              "\n",
              "    .dataframe tbody tr th {\n",
              "        vertical-align: top;\n",
              "    }\n",
              "\n",
              "    .dataframe thead th {\n",
              "        text-align: right;\n",
              "    }\n",
              "</style>\n",
              "<table border=\"1\" class=\"dataframe\">\n",
              "  <thead>\n",
              "    <tr style=\"text-align: right;\">\n",
              "      <th></th>\n",
              "      <th>Academic_history</th>\n",
              "      <th>Attendance</th>\n",
              "      <th>Parental_support</th>\n",
              "      <th>Access_to_resources</th>\n",
              "      <th>Extracurricular_Activities</th>\n",
              "      <th>Mental_health</th>\n",
              "      <th>Previous_Scores</th>\n",
              "      <th>Motivation_Level</th>\n",
              "      <th>Internet_Access</th>\n",
              "      <th>Academic_support</th>\n",
              "      <th>Family_Income</th>\n",
              "      <th>Understand_ability</th>\n",
              "      <th>School_Type</th>\n",
              "      <th>Peer_Influence</th>\n",
              "      <th>Physical_Activity</th>\n",
              "      <th>Mental_illness</th>\n",
              "      <th>Parental_Education_Level</th>\n",
              "      <th>Distance_from_Home</th>\n",
              "      <th>Gender</th>\n",
              "      <th>Exam_Score</th>\n",
              "    </tr>\n",
              "  </thead>\n",
              "  <tbody>\n",
              "    <tr>\n",
              "      <th>0</th>\n",
              "      <td>23</td>\n",
              "      <td>84</td>\n",
              "      <td>Low</td>\n",
              "      <td>High</td>\n",
              "      <td>No</td>\n",
              "      <td>7</td>\n",
              "      <td>73</td>\n",
              "      <td>Low</td>\n",
              "      <td>Yes</td>\n",
              "      <td>0</td>\n",
              "      <td>Low</td>\n",
              "      <td>Medium</td>\n",
              "      <td>Public</td>\n",
              "      <td>Positive</td>\n",
              "      <td>3</td>\n",
              "      <td>No</td>\n",
              "      <td>High School</td>\n",
              "      <td>Near</td>\n",
              "      <td>Male</td>\n",
              "      <td>67</td>\n",
              "    </tr>\n",
              "    <tr>\n",
              "      <th>1</th>\n",
              "      <td>19</td>\n",
              "      <td>64</td>\n",
              "      <td>Low</td>\n",
              "      <td>Medium</td>\n",
              "      <td>No</td>\n",
              "      <td>8</td>\n",
              "      <td>59</td>\n",
              "      <td>Low</td>\n",
              "      <td>Yes</td>\n",
              "      <td>2</td>\n",
              "      <td>Medium</td>\n",
              "      <td>Medium</td>\n",
              "      <td>Public</td>\n",
              "      <td>Negative</td>\n",
              "      <td>4</td>\n",
              "      <td>No</td>\n",
              "      <td>College</td>\n",
              "      <td>Moderate</td>\n",
              "      <td>Female</td>\n",
              "      <td>61</td>\n",
              "    </tr>\n",
              "  </tbody>\n",
              "</table>\n",
              "</div>"
            ],
            "text/plain": [
              "   Academic_history  Attendance Parental_support Access_to_resources  \\\n",
              "0                23          84              Low                High   \n",
              "1                19          64              Low              Medium   \n",
              "\n",
              "  Extracurricular_Activities  Mental_health  Previous_Scores Motivation_Level  \\\n",
              "0                         No              7               73              Low   \n",
              "1                         No              8               59              Low   \n",
              "\n",
              "  Internet_Access  Academic_support Family_Income Understand_ability  \\\n",
              "0             Yes                 0           Low             Medium   \n",
              "1             Yes                 2        Medium             Medium   \n",
              "\n",
              "  School_Type Peer_Influence  Physical_Activity Mental_illness  \\\n",
              "0      Public       Positive                  3             No   \n",
              "1      Public       Negative                  4             No   \n",
              "\n",
              "  Parental_Education_Level Distance_from_Home  Gender  Exam_Score  \n",
              "0              High School               Near    Male          67  \n",
              "1                  College           Moderate  Female          61  "
            ]
          },
          "execution_count": 15,
          "metadata": {},
          "output_type": "execute_result"
        }
      ],
      "source": [
        "df.head(2)"
      ]
    },
    {
      "cell_type": "code",
      "execution_count": 16,
      "metadata": {
        "colab": {
          "base_uri": "https://localhost:8080/"
        },
        "id": "rw0LjcBsA3cU",
        "outputId": "a60a714d-520e-4cff-85ca-97a258876dd7"
      },
      "outputs": [
        {
          "name": "stdout",
          "output_type": "stream",
          "text": [
            "Categories in 'Gender' variable: ['Male' 'Female']\n",
            "Categories in 'Parental_support' variable: ['Low' 'Medium' 'High']\n",
            "Categories in 'Access_to_resources' variable: ['High' 'Medium' 'Low']\n",
            "Categories in 'Extracurricular_Activities' variable: ['No' 'Yes']\n",
            "Categories in 'Motivation_Level' variable: ['Low' 'Medium' 'High']\n",
            "Categories in 'Internet_Access' variable: ['Yes' 'No']\n",
            "Categories in 'Family_Income' variable: ['Low' 'Medium' 'High']\n",
            "Categories in 'Understand_ability' variable: ['Medium' 'High' 'Low']\n",
            "Categories in 'School_Type' variable: ['Public' 'Private']\n",
            "Categories in 'Peer_Influence' variable: ['Positive' 'Negative' 'Neutral']\n",
            "Categories in 'Mental_illness' variable: ['No' 'Yes']\n",
            "Categories in 'Parental_Education_Level' variable: ['High School' 'College' 'Postgraduate']\n",
            "Categories in 'Distance_from_Home' variable: ['Near' 'Moderate' 'Far']\n"
          ]
        }
      ],
      "source": [
        "print(\"Categories in 'Gender' variable:\", df['Gender'].unique())\n",
        "print(\"Categories in 'Parental_support' variable:\", df['Parental_support'].unique())\n",
        "print(\"Categories in 'Access_to_resources' variable:\", df['Access_to_resources'].unique())\n",
        "print(\"Categories in 'Extracurricular_Activities' variable:\", df['Extracurricular_Activities'].unique())\n",
        "print(\"Categories in 'Motivation_Level' variable:\", df['Motivation_Level'].unique())\n",
        "print(\"Categories in 'Internet_Access' variable:\", df['Internet_Access'].unique())\n",
        "print(\"Categories in 'Family_Income' variable:\", df['Family_Income'].unique())\n",
        "print(\"Categories in 'Understand_ability' variable:\", df['Understand_ability'].unique())\n",
        "print(\"Categories in 'School_Type' variable:\", df['School_Type'].unique())\n",
        "print(\"Categories in 'Peer_Influence' variable:\", df['Peer_Influence'].unique())\n",
        "print(\"Categories in 'Mental_illness' variable:\", df['Mental_illness'].unique())\n",
        "print(\"Categories in 'Parental_Education_Level' variable:\", df['Parental_Education_Level'].unique())\n",
        "print(\"Categories in 'Distance_from_Home' variable:\", df['Distance_from_Home'].unique())"
      ]
    },
    {
      "cell_type": "code",
      "execution_count": 17,
      "metadata": {
        "colab": {
          "base_uri": "https://localhost:8080/",
          "height": 226
        },
        "id": "wrJMJNrBCdfn",
        "outputId": "622ee65e-e4ff-4d10-8fcc-0113fbd83dae"
      },
      "outputs": [
        {
          "data": {
            "text/html": [
              "<div>\n",
              "<style scoped>\n",
              "    .dataframe tbody tr th:only-of-type {\n",
              "        vertical-align: middle;\n",
              "    }\n",
              "\n",
              "    .dataframe tbody tr th {\n",
              "        vertical-align: top;\n",
              "    }\n",
              "\n",
              "    .dataframe thead th {\n",
              "        text-align: right;\n",
              "    }\n",
              "</style>\n",
              "<table border=\"1\" class=\"dataframe\">\n",
              "  <thead>\n",
              "    <tr style=\"text-align: right;\">\n",
              "      <th></th>\n",
              "      <th>Academic_history</th>\n",
              "      <th>Attendance</th>\n",
              "      <th>Parental_support</th>\n",
              "      <th>Access_to_resources</th>\n",
              "      <th>Extracurricular_Activities</th>\n",
              "      <th>Mental_health</th>\n",
              "      <th>Previous_Scores</th>\n",
              "      <th>Motivation_Level</th>\n",
              "      <th>Internet_Access</th>\n",
              "      <th>Academic_support</th>\n",
              "      <th>Family_Income</th>\n",
              "      <th>Understand_ability</th>\n",
              "      <th>School_Type</th>\n",
              "      <th>Peer_Influence</th>\n",
              "      <th>Physical_Activity</th>\n",
              "      <th>Mental_illness</th>\n",
              "      <th>Parental_Education_Level</th>\n",
              "      <th>Distance_from_Home</th>\n",
              "      <th>Gender</th>\n",
              "      <th>Exam_Score</th>\n",
              "    </tr>\n",
              "  </thead>\n",
              "  <tbody>\n",
              "    <tr>\n",
              "      <th>0</th>\n",
              "      <td>23</td>\n",
              "      <td>84</td>\n",
              "      <td>Low</td>\n",
              "      <td>High</td>\n",
              "      <td>No</td>\n",
              "      <td>7</td>\n",
              "      <td>73</td>\n",
              "      <td>Low</td>\n",
              "      <td>Yes</td>\n",
              "      <td>0</td>\n",
              "      <td>Low</td>\n",
              "      <td>Medium</td>\n",
              "      <td>Public</td>\n",
              "      <td>Positive</td>\n",
              "      <td>3</td>\n",
              "      <td>No</td>\n",
              "      <td>High School</td>\n",
              "      <td>Near</td>\n",
              "      <td>Male</td>\n",
              "      <td>67</td>\n",
              "    </tr>\n",
              "    <tr>\n",
              "      <th>1</th>\n",
              "      <td>19</td>\n",
              "      <td>64</td>\n",
              "      <td>Low</td>\n",
              "      <td>Medium</td>\n",
              "      <td>No</td>\n",
              "      <td>8</td>\n",
              "      <td>59</td>\n",
              "      <td>Low</td>\n",
              "      <td>Yes</td>\n",
              "      <td>2</td>\n",
              "      <td>Medium</td>\n",
              "      <td>Medium</td>\n",
              "      <td>Public</td>\n",
              "      <td>Negative</td>\n",
              "      <td>4</td>\n",
              "      <td>No</td>\n",
              "      <td>College</td>\n",
              "      <td>Moderate</td>\n",
              "      <td>Female</td>\n",
              "      <td>61</td>\n",
              "    </tr>\n",
              "    <tr>\n",
              "      <th>2</th>\n",
              "      <td>24</td>\n",
              "      <td>98</td>\n",
              "      <td>Medium</td>\n",
              "      <td>Medium</td>\n",
              "      <td>Yes</td>\n",
              "      <td>7</td>\n",
              "      <td>91</td>\n",
              "      <td>Medium</td>\n",
              "      <td>Yes</td>\n",
              "      <td>2</td>\n",
              "      <td>Medium</td>\n",
              "      <td>Medium</td>\n",
              "      <td>Public</td>\n",
              "      <td>Neutral</td>\n",
              "      <td>4</td>\n",
              "      <td>No</td>\n",
              "      <td>Postgraduate</td>\n",
              "      <td>Near</td>\n",
              "      <td>Male</td>\n",
              "      <td>74</td>\n",
              "    </tr>\n",
              "    <tr>\n",
              "      <th>3</th>\n",
              "      <td>29</td>\n",
              "      <td>89</td>\n",
              "      <td>Low</td>\n",
              "      <td>Medium</td>\n",
              "      <td>Yes</td>\n",
              "      <td>8</td>\n",
              "      <td>98</td>\n",
              "      <td>Medium</td>\n",
              "      <td>Yes</td>\n",
              "      <td>1</td>\n",
              "      <td>Medium</td>\n",
              "      <td>Medium</td>\n",
              "      <td>Public</td>\n",
              "      <td>Negative</td>\n",
              "      <td>4</td>\n",
              "      <td>No</td>\n",
              "      <td>High School</td>\n",
              "      <td>Moderate</td>\n",
              "      <td>Male</td>\n",
              "      <td>71</td>\n",
              "    </tr>\n",
              "    <tr>\n",
              "      <th>4</th>\n",
              "      <td>19</td>\n",
              "      <td>92</td>\n",
              "      <td>Medium</td>\n",
              "      <td>Medium</td>\n",
              "      <td>Yes</td>\n",
              "      <td>6</td>\n",
              "      <td>65</td>\n",
              "      <td>Medium</td>\n",
              "      <td>Yes</td>\n",
              "      <td>3</td>\n",
              "      <td>Medium</td>\n",
              "      <td>High</td>\n",
              "      <td>Public</td>\n",
              "      <td>Neutral</td>\n",
              "      <td>4</td>\n",
              "      <td>No</td>\n",
              "      <td>College</td>\n",
              "      <td>Near</td>\n",
              "      <td>Female</td>\n",
              "      <td>70</td>\n",
              "    </tr>\n",
              "  </tbody>\n",
              "</table>\n",
              "</div>"
            ],
            "text/plain": [
              "   Academic_history  Attendance Parental_support Access_to_resources  \\\n",
              "0                23          84              Low                High   \n",
              "1                19          64              Low              Medium   \n",
              "2                24          98           Medium              Medium   \n",
              "3                29          89              Low              Medium   \n",
              "4                19          92           Medium              Medium   \n",
              "\n",
              "  Extracurricular_Activities  Mental_health  Previous_Scores Motivation_Level  \\\n",
              "0                         No              7               73              Low   \n",
              "1                         No              8               59              Low   \n",
              "2                        Yes              7               91           Medium   \n",
              "3                        Yes              8               98           Medium   \n",
              "4                        Yes              6               65           Medium   \n",
              "\n",
              "  Internet_Access  Academic_support Family_Income Understand_ability  \\\n",
              "0             Yes                 0           Low             Medium   \n",
              "1             Yes                 2        Medium             Medium   \n",
              "2             Yes                 2        Medium             Medium   \n",
              "3             Yes                 1        Medium             Medium   \n",
              "4             Yes                 3        Medium               High   \n",
              "\n",
              "  School_Type Peer_Influence  Physical_Activity Mental_illness  \\\n",
              "0      Public       Positive                  3             No   \n",
              "1      Public       Negative                  4             No   \n",
              "2      Public        Neutral                  4             No   \n",
              "3      Public       Negative                  4             No   \n",
              "4      Public        Neutral                  4             No   \n",
              "\n",
              "  Parental_Education_Level Distance_from_Home  Gender  Exam_Score  \n",
              "0              High School               Near    Male          67  \n",
              "1                  College           Moderate  Female          61  \n",
              "2             Postgraduate               Near    Male          74  \n",
              "3              High School           Moderate    Male          71  \n",
              "4                  College               Near  Female          70  "
            ]
          },
          "execution_count": 17,
          "metadata": {},
          "output_type": "execute_result"
        }
      ],
      "source": [
        "df.head()"
      ]
    },
    {
      "cell_type": "code",
      "execution_count": 18,
      "metadata": {
        "colab": {
          "base_uri": "https://localhost:8080/",
          "height": 619
        },
        "id": "4ov4ftcAakrz",
        "outputId": "d6617021-c473-4cfc-b2c6-98e897a1efb2"
      },
      "outputs": [
        {
          "data": {
            "image/png": "[encoded data removed]",
            "text/plain": [
              "<Figure size 1500x700 with 2 Axes>"
            ]
          },
          "metadata": {},
          "output_type": "display_data"
        }
      ],
      "source": [
        "fig, axs = plt.subplots(1, 2, figsize=(15, 7))\n",
        "plt.subplot(121)\n",
        "sns.histplot(data=df,x='Exam_Score',bins=30,kde=True,color='g')\n",
        "plt.subplot(122)\n",
        "sns.histplot(data=df,x='Exam_Score',kde=True,hue='Gender')\n",
        "plt.show()"
      ]
    },
    {
      "cell_type": "code",
      "execution_count": null,
      "metadata": {
        "id": "AjDAjmeza2J8"
      },
      "outputs": [],
      "source": []
    },
    {
      "cell_type": "code",
      "execution_count": null,
      "metadata": {},
      "outputs": [],
      "source": []
    }
  ],
  "metadata": {
    "colab": {
      "provenance": []
    },
    "kernelspec": {
      "display_name": "pred",
      "language": "python",
      "name": "python3"
    },
    "language_info": {
      "codemirror_mode": {
        "name": "ipython",
        "version": 3
      },
      "file_extension": ".py",
      "mimetype": "text/x-python",
      "name": "python",
      "nbconvert_exporter": "python",
      "pygments_lexer": "ipython3",
      "version": "3.11.9"
    }
  },
  "nbformat": 4,
  "nbformat_minor": 0
}
